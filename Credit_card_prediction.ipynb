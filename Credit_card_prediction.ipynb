{
  "nbformat": 4,
  "nbformat_minor": 0,
  "metadata": {
    "colab": {
      "name": "Credit-card-prediction.ipynb",
      "version": "0.3.2",
      "provenance": [],
      "collapsed_sections": [],
      "machine_shape": "hm",
      "include_colab_link": true
    },
    "kernelspec": {
      "name": "python3",
      "display_name": "Python 3"
    },
    "accelerator": "GPU"
  },
  "cells": [
    {
      "cell_type": "markdown",
      "metadata": {
        "id": "view-in-github",
        "colab_type": "text"
      },
      "source": [
        "<a href=\"https://colab.research.google.com/github/abhimshnew/Credit-Card-Fraud/blob/master/Credit_card_prediction.ipynb\" target=\"_parent\"><img src=\"https://colab.research.google.com/assets/colab-badge.svg\" alt=\"Open In Colab\"/></a>"
      ]
    },
    {
      "cell_type": "code",
      "metadata": {
        "id": "SNuinFV0ak2v",
        "colab_type": "code",
        "colab": {}
      },
      "source": [
        ""
      ],
      "execution_count": 0,
      "outputs": []
    },
    {
      "cell_type": "code",
      "metadata": {
        "id": "xjJ4O7xz-Rl3",
        "colab_type": "code",
        "outputId": "27c6a24a-a5b3-450a-eb13-b04ab6d0e7d5",
        "colab": {
          "base_uri": "https://localhost:8080/",
          "height": 222
        }
      },
      "source": [
        "!pip install kaggle"
      ],
      "execution_count": 1,
      "outputs": [
        {
          "output_type": "stream",
          "text": [
            "Requirement already satisfied: kaggle in /usr/local/lib/python3.6/dist-packages (1.5.5)\n",
            "Requirement already satisfied: certifi in /usr/local/lib/python3.6/dist-packages (from kaggle) (2019.6.16)\n",
            "Requirement already satisfied: python-slugify in /usr/local/lib/python3.6/dist-packages (from kaggle) (3.0.3)\n",
            "Requirement already satisfied: six>=1.10 in /usr/local/lib/python3.6/dist-packages (from kaggle) (1.12.0)\n",
            "Requirement already satisfied: python-dateutil in /usr/local/lib/python3.6/dist-packages (from kaggle) (2.5.3)\n",
            "Requirement already satisfied: tqdm in /usr/local/lib/python3.6/dist-packages (from kaggle) (4.28.1)\n",
            "Requirement already satisfied: urllib3<1.25,>=1.21.1 in /usr/local/lib/python3.6/dist-packages (from kaggle) (1.24.3)\n",
            "Requirement already satisfied: requests in /usr/local/lib/python3.6/dist-packages (from kaggle) (2.21.0)\n",
            "Requirement already satisfied: text-unidecode==1.2 in /usr/local/lib/python3.6/dist-packages (from python-slugify->kaggle) (1.2)\n",
            "Requirement already satisfied: idna<2.9,>=2.5 in /usr/local/lib/python3.6/dist-packages (from requests->kaggle) (2.8)\n",
            "Requirement already satisfied: chardet<3.1.0,>=3.0.2 in /usr/local/lib/python3.6/dist-packages (from requests->kaggle) (3.0.4)\n"
          ],
          "name": "stdout"
        }
      ]
    },
    {
      "cell_type": "markdown",
      "metadata": {
        "id": "JPm8zBHoCBvD",
        "colab_type": "text"
      },
      "source": [
        "Fraud detection\n",
        "1. Explore the data\n",
        "2. Figure import feature\n",
        "3. Perform Machine Learning"
      ]
    },
    {
      "cell_type": "code",
      "metadata": {
        "id": "IqTNGyqkCb9b",
        "colab_type": "code",
        "colab": {}
      },
      "source": [
        "import numpy as np\n",
        "import pandas as pd\n",
        "import seaborn as sns\n",
        "import sklearn as sk\n",
        "from sklearn.preprocessing import LabelEncoder\n",
        "import matplotlib.pyplot as plt\n"
      ],
      "execution_count": 0,
      "outputs": []
    },
    {
      "cell_type": "code",
      "metadata": {
        "id": "A3ZGjMB-bbk3",
        "colab_type": "code",
        "colab": {}
      },
      "source": [
        "from google.colab import files\n"
      ],
      "execution_count": 0,
      "outputs": []
    },
    {
      "cell_type": "code",
      "metadata": {
        "id": "_jKiPr-MDksl",
        "colab_type": "code",
        "outputId": "548663f7-abfe-4737-9cf0-ed271de83a7a",
        "colab": {
          "resources": {
            "http://localhost:8080/nbextensions/google.colab/files.js": {
              "data": "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",
              "ok": true,
              "headers": [
                [
                  "content-type",
                  "application/javascript"
                ]
              ],
              "status": 200,
              "status_text": ""
            }
          },
          "base_uri": "https://localhost:8080/",
          "height": 111
        }
      },
      "source": [
        "files.upload()"
      ],
      "execution_count": 4,
      "outputs": [
        {
          "output_type": "display_data",
          "data": {
            "text/html": [
              "\n",
              "     <input type=\"file\" id=\"files-5c1a6115-c5ca-4fc1-a443-1273dd98d8e4\" name=\"files[]\" multiple disabled />\n",
              "     <output id=\"result-5c1a6115-c5ca-4fc1-a443-1273dd98d8e4\">\n",
              "      Upload widget is only available when the cell has been executed in the\n",
              "      current browser session. Please rerun this cell to enable.\n",
              "      </output>\n",
              "      <script src=\"/nbextensions/google.colab/files.js\"></script> "
            ],
            "text/plain": [
              "<IPython.core.display.HTML object>"
            ]
          },
          "metadata": {
            "tags": []
          }
        },
        {
          "output_type": "stream",
          "text": [
            "Saving kaggle.json to kaggle.json\n"
          ],
          "name": "stdout"
        },
        {
          "output_type": "execute_result",
          "data": {
            "text/plain": [
              "{'kaggle.json': b'{\"username\":\"abhimshm\",\"key\":\"852887340af85c7779cafbf907659999\"}'}"
            ]
          },
          "metadata": {
            "tags": []
          },
          "execution_count": 4
        }
      ]
    },
    {
      "cell_type": "code",
      "metadata": {
        "id": "sDGHyrsZbq8N",
        "colab_type": "code",
        "colab": {}
      },
      "source": [
        "#before importing the dataset we want to use this code\n",
        "# The Kaggle API client expects this file to be in ~/.kaggle,\n",
        "!mkdir -p ~/.kaggle\n",
        "!cp kaggle.json ~/.kaggle/\n",
        "\n",
        "# This permissions change avoids a warning on Kaggle tool startup.\n",
        "!chmod 600 ~/.kaggle/kaggle.json"
      ],
      "execution_count": 0,
      "outputs": []
    },
    {
      "cell_type": "code",
      "metadata": {
        "id": "JaVniLjDcLZl",
        "colab_type": "code",
        "outputId": "1c9f59d3-1ba1-4d1a-f98a-5ed311b2b1d7",
        "colab": {
          "base_uri": "https://localhost:8080/",
          "height": 269
        }
      },
      "source": [
        "!kaggle competitions download -c ieee-fraud-detection"
      ],
      "execution_count": 6,
      "outputs": [
        {
          "output_type": "stream",
          "text": [
            "Downloading train_transaction.csv.zip to /content\n",
            " 78% 41.0M/52.5M [00:00<00:00, 42.6MB/s]\n",
            "100% 52.5M/52.5M [00:00<00:00, 76.9MB/s]\n",
            "Downloading train_identity.csv.zip to /content\n",
            "  0% 0.00/3.02M [00:00<?, ?B/s]\n",
            "100% 3.02M/3.02M [00:00<00:00, 92.9MB/s]\n",
            "Downloading test_transaction.csv.zip to /content\n",
            "100% 47.3M/47.3M [00:00<00:00, 79.2MB/s]\n",
            "\n",
            "Downloading test_identity.csv.zip to /content\n",
            "  0% 0.00/2.97M [00:00<?, ?B/s]\n",
            "100% 2.97M/2.97M [00:00<00:00, 202MB/s]\n",
            "Downloading sample_submission.csv.zip to /content\n",
            "  0% 0.00/1.14M [00:00<?, ?B/s]\n",
            "100% 1.14M/1.14M [00:00<00:00, 76.4MB/s]\n"
          ],
          "name": "stdout"
        }
      ]
    },
    {
      "cell_type": "code",
      "metadata": {
        "id": "7tuDhMCLFJkh",
        "colab_type": "code",
        "outputId": "6d05527a-cc4f-476a-f099-171486a1fccc",
        "colab": {
          "base_uri": "https://localhost:8080/",
          "height": 67
        }
      },
      "source": [
        "!ls"
      ],
      "execution_count": 0,
      "outputs": [
        {
          "output_type": "stream",
          "text": [
            "kaggle.json\t\t   test_identity.csv.zip     train_transaction.csv.zip\n",
            "sample_data\t\t   test_transaction.csv.zip\n",
            "sample_submission.csv.zip  train_identity.csv.zip\n"
          ],
          "name": "stdout"
        }
      ]
    },
    {
      "cell_type": "code",
      "metadata": {
        "id": "Wt8alz_SclKg",
        "colab_type": "code",
        "colab": {}
      },
      "source": [
        "train_identity = pd.read_csv('/content/test_identity.csv.zip', compression='zip')\n",
        "train_transaction = pd.read_csv('/content/train_transaction.csv.zip', compression='zip')\n",
        "\n",
        "test_identity = pd.read_csv('/content/test_identity.csv.zip', compression='zip')\n",
        "test_transaction = pd.read_csv('/content/test_transaction.csv.zip', compression='zip')\n",
        "\n",
        "# Get the dataset which similar transaction id.i.e \n",
        "# Combine the columns that have only transaction ID in both dataset\n",
        "train = pd.merge(train_transaction, train_identity, on='TransactionID', how='left')\n",
        "test = pd.merge(test_transaction, test_identity, on='TransactionID')\n"
      ],
      "execution_count": 0,
      "outputs": []
    },
    {
      "cell_type": "code",
      "metadata": {
        "id": "vBUk9_BYFwwO",
        "colab_type": "code",
        "outputId": "91baf82b-759d-4ca9-cd03-70e44d4a0d87",
        "colab": {
          "base_uri": "https://localhost:8080/",
          "height": 50
        }
      },
      "source": [
        "print(f'Shape of train data: {train.shape}')\n",
        "print(f'Shape of test data: {test.shape}')\n"
      ],
      "execution_count": 8,
      "outputs": [
        {
          "output_type": "stream",
          "text": [
            "Shape of train data: (590540, 434)\n",
            "Shape of test data: (141907, 433)\n"
          ],
          "name": "stdout"
        }
      ]
    },
    {
      "cell_type": "code",
      "metadata": {
        "id": "MfwaM6FbHed1",
        "colab_type": "code",
        "outputId": "0edd3287-8184-4fd6-9852-ce75af2d1afd",
        "colab": {
          "base_uri": "https://localhost:8080/",
          "height": 67
        }
      },
      "source": [
        "train.isFraud.value_counts()"
      ],
      "execution_count": 9,
      "outputs": [
        {
          "output_type": "execute_result",
          "data": {
            "text/plain": [
              "0    569877\n",
              "1     20663\n",
              "Name: isFraud, dtype: int64"
            ]
          },
          "metadata": {
            "tags": []
          },
          "execution_count": 9
        }
      ]
    },
    {
      "cell_type": "code",
      "metadata": {
        "id": "uMJdBylMhuGR",
        "colab_type": "code",
        "outputId": "bc2d835a-dc01-44aa-bdb0-566f5d85c3ae",
        "colab": {
          "base_uri": "https://localhost:8080/",
          "height": 1000
        }
      },
      "source": [
        "plt.figure(figsize=(50,50))\n",
        "sns.barplot(train.isnull().sum().sort_values(ascending=False),\n",
        "            train.isnull().sum().sort_values(ascending=False).index)\n",
        "plt.show()"
      ],
      "execution_count": 0,
      "outputs": [
        {
          "output_type": "display_data",
          "data": {
            "image/png": "[encoded data removed]",
            "text/plain": [
              "<Figure size 3600x3600 with 1 Axes>"
            ]
          },
          "metadata": {
            "tags": []
          }
        }
      ]
    },
    {
      "cell_type": "code",
      "metadata": {
        "id": "rFsBwICgyr3i",
        "colab_type": "code",
        "colab": {}
      },
      "source": [
        "cols_with_max_Nan =  [col for col in train.columns if train[col].isnull().sum() / train.shape[0] > 0.9]"
      ],
      "execution_count": 0,
      "outputs": []
    },
    {
      "cell_type": "code",
      "metadata": {
        "id": "qES76OcUzjEk",
        "colab_type": "code",
        "outputId": "c3c1b859-f0b8-4442-bf0d-d8746b4834ae",
        "colab": {
          "base_uri": "https://localhost:8080/",
          "height": 722
        }
      },
      "source": [
        "cols_with_max_Nan"
      ],
      "execution_count": 0,
      "outputs": [
        {
          "output_type": "execute_result",
          "data": {
            "text/plain": [
              "['dist2',\n",
              " 'D7',\n",
              " 'id_01',\n",
              " 'id_02',\n",
              " 'id_03',\n",
              " 'id_04',\n",
              " 'id_05',\n",
              " 'id_06',\n",
              " 'id_07',\n",
              " 'id_08',\n",
              " 'id_09',\n",
              " 'id_10',\n",
              " 'id_11',\n",
              " 'id_12',\n",
              " 'id_13',\n",
              " 'id_14',\n",
              " 'id_15',\n",
              " 'id_16',\n",
              " 'id_17',\n",
              " 'id_18',\n",
              " 'id_19',\n",
              " 'id_20',\n",
              " 'id_21',\n",
              " 'id_22',\n",
              " 'id_23',\n",
              " 'id_24',\n",
              " 'id_25',\n",
              " 'id_26',\n",
              " 'id_27',\n",
              " 'id_28',\n",
              " 'id_29',\n",
              " 'id_30',\n",
              " 'id_31',\n",
              " 'id_32',\n",
              " 'id_33',\n",
              " 'id_34',\n",
              " 'id_35',\n",
              " 'id_36',\n",
              " 'id_37',\n",
              " 'id_38',\n",
              " 'DeviceType',\n",
              " 'DeviceInfo']"
            ]
          },
          "metadata": {
            "tags": []
          },
          "execution_count": 6
        }
      ]
    },
    {
      "cell_type": "markdown",
      "metadata": {
        "id": "yqVrKwRi0Uhp",
        "colab_type": "text"
      },
      "source": [
        "From above analysis we see that some columns have more than 90 % data as Nan, Hence we need to remove themn from the dataset"
      ]
    },
    {
      "cell_type": "code",
      "metadata": {
        "id": "tlahqwW_zhFv",
        "colab_type": "code",
        "colab": {}
      },
      "source": [
        "train_new = train.drop(columns=cols_with_max_Nan, axis = 1)"
      ],
      "execution_count": 0,
      "outputs": []
    },
    {
      "cell_type": "code",
      "metadata": {
        "id": "UdfT0qOq0gED",
        "colab_type": "code",
        "outputId": "e7f88906-d7f0-4de2-8212-ab61ebf21506",
        "colab": {
          "base_uri": "https://localhost:8080/",
          "height": 34
        }
      },
      "source": [
        "train.shape"
      ],
      "execution_count": 12,
      "outputs": [
        {
          "output_type": "execute_result",
          "data": {
            "text/plain": [
              "(590540, 434)"
            ]
          },
          "metadata": {
            "tags": []
          },
          "execution_count": 12
        }
      ]
    },
    {
      "cell_type": "code",
      "metadata": {
        "id": "OG57XTS41Mnh",
        "colab_type": "code",
        "outputId": "0d5ad707-774f-4314-e366-ccba747baa0b",
        "colab": {
          "base_uri": "https://localhost:8080/",
          "height": 34
        }
      },
      "source": [
        "train_new.shape"
      ],
      "execution_count": 13,
      "outputs": [
        {
          "output_type": "execute_result",
          "data": {
            "text/plain": [
              "(590540, 392)"
            ]
          },
          "metadata": {
            "tags": []
          },
          "execution_count": 13
        }
      ]
    },
    {
      "cell_type": "markdown",
      "metadata": {
        "id": "b4SNxWaV2Ty5",
        "colab_type": "text"
      },
      "source": [
        "We have currently removed 42 columns as 90% data was Nan in Columns, If the Columns have a singlr value for than single value they also need to deleted"
      ]
    },
    {
      "cell_type": "code",
      "metadata": {
        "id": "AGVAlVW81O_z",
        "colab_type": "code",
        "colab": {}
      },
      "source": [
        "maximum_data_for_each_columns = [col for col in train_new.columns if train_new[col].value_counts(dropna=False, normalize=True).values[0] > 0.90]"
      ],
      "execution_count": 0,
      "outputs": []
    },
    {
      "cell_type": "code",
      "metadata": {
        "id": "3s8_KVFq3NOP",
        "colab_type": "code",
        "outputId": "16c24479-cc01-425c-ba67-b899615ab55d",
        "colab": {
          "base_uri": "https://localhost:8080/",
          "height": 1000
        }
      },
      "source": [
        "for i in maximum_data_for_each_columns:\n",
        "    print(f'{i} \\n {train_new[i].value_counts().head(5)}\\n\\n')"
      ],
      "execution_count": 0,
      "outputs": [
        {
          "output_type": "stream",
          "text": [
            "isFraud \n",
            " 0    569877\n",
            "1     20663\n",
            "Name: isFraud, dtype: int64\n",
            "\n",
            "\n",
            "C3 \n",
            " 0.0    588111\n",
            "1.0      2137\n",
            "2.0       180\n",
            "3.0        58\n",
            "4.0         7\n",
            "Name: C3, dtype: int64\n",
            "\n",
            "\n",
            "V98 \n",
            " 0.0    558622\n",
            "1.0     27768\n",
            "2.0      3058\n",
            "3.0       568\n",
            "4.0       135\n",
            "Name: V98, dtype: int64\n",
            "\n",
            "\n",
            "V101 \n",
            " 0.0    556214\n",
            "1.0     19797\n",
            "2.0      6803\n",
            "3.0      2995\n",
            "4.0      1379\n",
            "Name: V101, dtype: int64\n",
            "\n",
            "\n",
            "V102 \n",
            " 0.0    535961\n",
            "1.0     24472\n",
            "2.0     10448\n",
            "3.0      5439\n",
            "4.0      3227\n",
            "Name: V102, dtype: int64\n",
            "\n",
            "\n",
            "V103 \n",
            " 0.0    547743\n",
            "1.0     21363\n",
            "2.0      8399\n",
            "3.0      4117\n",
            "4.0      2268\n",
            "Name: V103, dtype: int64\n",
            "\n",
            "\n",
            "V104 \n",
            " 0.0     563527\n",
            "1.0      19375\n",
            "2.0       4089\n",
            "3.0       1126\n",
            "11.0      1000\n",
            "Name: V104, dtype: int64\n",
            "\n",
            "\n",
            "V105 \n",
            " 0.0    547750\n",
            "1.0     27711\n",
            "2.0      7508\n",
            "3.0      2566\n",
            "4.0      1103\n",
            "Name: V105, dtype: int64\n",
            "\n",
            "\n",
            "V106 \n",
            " 0.0    558074\n",
            "1.0     22306\n",
            "2.0      5381\n",
            "3.0      1590\n",
            "4.0       595\n",
            "Name: V106, dtype: int64\n",
            "\n",
            "\n",
            "V107 \n",
            " 1.0    589978\n",
            "0.0       248\n",
            "Name: V107, dtype: int64\n",
            "\n",
            "\n",
            "V108 \n",
            " 1.0    587242\n",
            "2.0      2566\n",
            "0.0       249\n",
            "3.0       122\n",
            "4.0        35\n",
            "Name: V108, dtype: int64\n",
            "\n",
            "\n",
            "V109 \n",
            " 1.0    581702\n",
            "2.0      8198\n",
            "3.0       212\n",
            "0.0        60\n",
            "4.0        42\n",
            "Name: V109, dtype: int64\n",
            "\n",
            "\n",
            "V110 \n",
            " 1.0    585561\n",
            "2.0      4308\n",
            "0.0       174\n",
            "3.0       136\n",
            "4.0        35\n",
            "Name: V110, dtype: int64\n",
            "\n",
            "\n",
            "V111 \n",
            " 1.0    588499\n",
            "2.0      1293\n",
            "0.0       249\n",
            "3.0       129\n",
            "4.0        36\n",
            "Name: V111, dtype: int64\n",
            "\n",
            "\n",
            "V112 \n",
            " 1.0    587233\n",
            "2.0      2744\n",
            "3.0       133\n",
            "0.0        60\n",
            "4.0        36\n",
            "Name: V112, dtype: int64\n",
            "\n",
            "\n",
            "V113 \n",
            " 1.0    588168\n",
            "2.0      1696\n",
            "0.0       174\n",
            "3.0       132\n",
            "4.0        36\n",
            "Name: V113, dtype: int64\n",
            "\n",
            "\n",
            "V114 \n",
            " 1.0    584688\n",
            "2.0      4954\n",
            "3.0       255\n",
            "0.0       250\n",
            "4.0        53\n",
            "Name: V114, dtype: int64\n",
            "\n",
            "\n",
            "V115 \n",
            " 1.0    572121\n",
            "2.0     17024\n",
            "3.0       909\n",
            "4.0        83\n",
            "0.0        61\n",
            "Name: V115, dtype: int64\n",
            "\n",
            "\n",
            "V116 \n",
            " 1.0    581192\n",
            "2.0      8375\n",
            "3.0       400\n",
            "0.0       175\n",
            "4.0        58\n",
            "Name: V116, dtype: int64\n",
            "\n",
            "\n",
            "V117 \n",
            " 1.0    589499\n",
            "2.0       476\n",
            "0.0       249\n",
            "3.0         2\n",
            "Name: V117, dtype: int64\n",
            "\n",
            "\n",
            "V118 \n",
            " 1.0    589238\n",
            "2.0       926\n",
            "0.0        60\n",
            "3.0         2\n",
            "Name: V118, dtype: int64\n",
            "\n",
            "\n",
            "V119 \n",
            " 1.0    589450\n",
            "2.0       600\n",
            "0.0       174\n",
            "3.0         2\n",
            "Name: V119, dtype: int64\n",
            "\n",
            "\n",
            "V120 \n",
            " 1.0    589218\n",
            "2.0       753\n",
            "0.0       249\n",
            "3.0         6\n",
            "Name: V120, dtype: int64\n",
            "\n",
            "\n",
            "V121 \n",
            " 1.0    587594\n",
            "2.0      2560\n",
            "0.0        60\n",
            "3.0        12\n",
            "Name: V121, dtype: int64\n",
            "\n",
            "\n",
            "V122 \n",
            " 1.0    588846\n",
            "2.0      1200\n",
            "0.0       174\n",
            "3.0         6\n",
            "Name: V122, dtype: int64\n",
            "\n",
            "\n",
            "V123 \n",
            " 1.0    574712\n",
            "2.0     13214\n",
            "3.0      1423\n",
            "4.0       339\n",
            "0.0       250\n",
            "Name: V123, dtype: int64\n",
            "\n",
            "\n",
            "V124 \n",
            " 1.0    546045\n",
            "2.0     36778\n",
            "3.0      4856\n",
            "4.0      2004\n",
            "5.0       243\n",
            "Name: V124, dtype: int64\n",
            "\n",
            "\n",
            "V125 \n",
            " 1.0    565575\n",
            "2.0     20819\n",
            "3.0      2567\n",
            "4.0       774\n",
            "0.0       175\n",
            "Name: V125, dtype: int64\n",
            "\n",
            "\n",
            "V129 \n",
            " 0.0      558622\n",
            "59.0       2500\n",
            "117.0      2316\n",
            "49.0       1311\n",
            "39.0        966\n",
            "Name: V129, dtype: int64\n",
            "\n",
            "\n",
            "V132 \n",
            " 0.0      556214\n",
            "117.0      1453\n",
            "59.0       1281\n",
            "100.0       902\n",
            "49.0        741\n",
            "Name: V132, dtype: int64\n",
            "\n",
            "\n",
            "V133 \n",
            " 0.0      535961\n",
            "117.0      1888\n",
            "59.0       1642\n",
            "100.0       963\n",
            "226.0       869\n",
            "Name: V133, dtype: int64\n",
            "\n",
            "\n",
            "V134 \n",
            " 0.0      547743\n",
            "117.0      1654\n",
            "59.0       1397\n",
            "100.0       930\n",
            "49.0        759\n",
            "Name: V134, dtype: int64\n",
            "\n",
            "\n",
            "V135 \n",
            " 0.0       563527\n",
            "100.0       1206\n",
            "1165.0       870\n",
            "117.0        839\n",
            "200.0        807\n",
            "Name: V135, dtype: int64\n",
            "\n",
            "\n",
            "V136 \n",
            " 0.000000      547750\n",
            "100.000000      1343\n",
            "117.000000      1311\n",
            "59.000000       1197\n",
            "107.949997       968\n",
            "Name: V136, dtype: int64\n",
            "\n",
            "\n",
            "V137 \n",
            " 0.0      558074\n",
            "100.0      1275\n",
            "117.0      1050\n",
            "59.0        896\n",
            "200.0       818\n",
            "Name: V137, dtype: int64\n",
            "\n",
            "\n",
            "V281 \n",
            " 0.0    561201\n",
            "1.0     16896\n",
            "2.0      5694\n",
            "3.0      2484\n",
            "4.0      1469\n",
            "Name: V281, dtype: int64\n",
            "\n",
            "\n",
            "V284 \n",
            " 0.0    545552\n",
            "1.0     39347\n",
            "2.0      4481\n",
            "3.0       846\n",
            "4.0       190\n",
            "Name: V284, dtype: int64\n",
            "\n",
            "\n",
            "V286 \n",
            " 0.0    573290\n",
            "1.0     16122\n",
            "2.0       949\n",
            "3.0       136\n",
            "4.0        11\n",
            "Name: V286, dtype: int64\n",
            "\n",
            "\n",
            "V290 \n",
            " 1.0    551866\n",
            "2.0     30249\n",
            "3.0      4936\n",
            "4.0      1672\n",
            "5.0       681\n",
            "Name: V290, dtype: int64\n",
            "\n",
            "\n",
            "V293 \n",
            " 0.0    546442\n",
            "1.0     24280\n",
            "2.0      8882\n",
            "3.0      4188\n",
            "4.0      2103\n",
            "Name: V293, dtype: int64\n",
            "\n",
            "\n",
            "V295 \n",
            " 0.0    535074\n",
            "1.0     25973\n",
            "2.0     11104\n",
            "3.0      5694\n",
            "4.0      3182\n",
            "Name: V295, dtype: int64\n",
            "\n",
            "\n",
            "V296 \n",
            " 0.0    536687\n",
            "1.0     32376\n",
            "2.0     10099\n",
            "3.0      3586\n",
            "4.0      1620\n",
            "Name: V296, dtype: int64\n",
            "\n",
            "\n",
            "V297 \n",
            " 0.0     562740\n",
            "1.0      19398\n",
            "2.0       4605\n",
            "3.0       1435\n",
            "11.0      1299\n",
            "Name: V297, dtype: int64\n",
            "\n",
            "\n",
            "V298 \n",
            " 0.0    542892\n",
            "1.0     29739\n",
            "2.0      9068\n",
            "3.0      3101\n",
            "4.0      1410\n",
            "Name: V298, dtype: int64\n",
            "\n",
            "\n",
            "V299 \n",
            " 0.0    555629\n",
            "1.0     23124\n",
            "2.0      6255\n",
            "3.0      2066\n",
            "4.0       858\n",
            "Name: V299, dtype: int64\n",
            "\n",
            "\n",
            "V300 \n",
            " 0.0    569522\n",
            "1.0     15133\n",
            "2.0      3183\n",
            "3.0       938\n",
            "4.0       285\n",
            "Name: V300, dtype: int64\n",
            "\n",
            "\n",
            "V301 \n",
            " 0.0    567409\n",
            "1.0     16292\n",
            "2.0      3778\n",
            "3.0      1141\n",
            "4.0       324\n",
            "Name: V301, dtype: int64\n",
            "\n",
            "\n",
            "V305 \n",
            " 1.0    590524\n",
            "2.0         4\n",
            "Name: V305, dtype: int64\n",
            "\n",
            "\n",
            "V309 \n",
            " 0.0      545552\n",
            "59.0       3160\n",
            "117.0      2903\n",
            "49.0       1625\n",
            "39.0       1187\n",
            "Name: V309, dtype: int64\n",
            "\n",
            "\n",
            "V311 \n",
            " 0.000000      573290\n",
            "59.000000        823\n",
            "117.000000       805\n",
            "107.949997       611\n",
            "57.950001        585\n",
            "Name: V311, dtype: int64\n",
            "\n",
            "\n",
            "V316 \n",
            " 0.0      546442\n",
            "117.0      1727\n",
            "59.0       1504\n",
            "100.0       949\n",
            "49.0        878\n",
            "Name: V316, dtype: int64\n",
            "\n",
            "\n",
            "V318 \n",
            " 0.0      535074\n",
            "117.0      1937\n",
            "59.0       1586\n",
            "100.0       991\n",
            "226.0       873\n",
            "Name: V318, dtype: int64\n",
            "\n",
            "\n",
            "V319 \n",
            " 0.0       562740\n",
            "100.0       1040\n",
            "1165.0       870\n",
            "117.0        778\n",
            "200.0        747\n",
            "Name: V319, dtype: int64\n",
            "\n",
            "\n",
            "V320 \n",
            " 0.000000      542892\n",
            "117.000000      1298\n",
            "59.000000       1256\n",
            "100.000000      1172\n",
            "57.950001        978\n",
            "Name: V320, dtype: int64\n",
            "\n",
            "\n",
            "V321 \n",
            " 0.0      555629\n",
            "100.0      1104\n",
            "117.0       981\n",
            "59.0        881\n",
            "200.0       769\n",
            "Name: V321, dtype: int64\n",
            "\n",
            "\n"
          ],
          "name": "stdout"
        }
      ]
    },
    {
      "cell_type": "code",
      "metadata": {
        "id": "DeP5i0613TWb",
        "colab_type": "code",
        "outputId": "80ac8e94-68a2-4f5e-bab3-0859b920d7c6",
        "colab": {
          "base_uri": "https://localhost:8080/",
          "height": 34
        }
      },
      "source": [
        "len(maximum_data_for_each_columns)"
      ],
      "execution_count": 0,
      "outputs": [
        {
          "output_type": "execute_result",
          "data": {
            "text/plain": [
              "55"
            ]
          },
          "metadata": {
            "tags": []
          },
          "execution_count": 32
        }
      ]
    },
    {
      "cell_type": "code",
      "metadata": {
        "id": "ELsPDcTeI8X2",
        "colab_type": "code",
        "outputId": "12a0cd83-2ca6-4933-f630-c17ca0de1509",
        "colab": {
          "base_uri": "https://localhost:8080/",
          "height": 1000
        }
      },
      "source": [
        "for each in train_new.columns:\n",
        "    print(each)"
      ],
      "execution_count": 0,
      "outputs": [
        {
          "output_type": "stream",
          "text": [
            "TransactionID\n",
            "isFraud\n",
            "TransactionDT\n",
            "TransactionAmt\n",
            "ProductCD\n",
            "card1\n",
            "card2\n",
            "card3\n",
            "card4\n",
            "card5\n",
            "card6\n",
            "addr1\n",
            "addr2\n",
            "dist1\n",
            "P_emaildomain\n",
            "R_emaildomain\n",
            "C1\n",
            "C2\n",
            "C3\n",
            "C4\n",
            "C5\n",
            "C6\n",
            "C7\n",
            "C8\n",
            "C9\n",
            "C10\n",
            "C11\n",
            "C12\n",
            "C13\n",
            "C14\n",
            "D1\n",
            "D2\n",
            "D3\n",
            "D4\n",
            "D5\n",
            "D6\n",
            "D8\n",
            "D9\n",
            "D10\n",
            "D11\n",
            "D12\n",
            "D13\n",
            "D14\n",
            "D15\n",
            "M1\n",
            "M2\n",
            "M3\n",
            "M4\n",
            "M5\n",
            "M6\n",
            "M7\n",
            "M8\n",
            "M9\n",
            "V1\n",
            "V2\n",
            "V3\n",
            "V4\n",
            "V5\n",
            "V6\n",
            "V7\n",
            "V8\n",
            "V9\n",
            "V10\n",
            "V11\n",
            "V12\n",
            "V13\n",
            "V14\n",
            "V15\n",
            "V16\n",
            "V17\n",
            "V18\n",
            "V19\n",
            "V20\n",
            "V21\n",
            "V22\n",
            "V23\n",
            "V24\n",
            "V25\n",
            "V26\n",
            "V27\n",
            "V28\n",
            "V29\n",
            "V30\n",
            "V31\n",
            "V32\n",
            "V33\n",
            "V34\n",
            "V35\n",
            "V36\n",
            "V37\n",
            "V38\n",
            "V39\n",
            "V40\n",
            "V41\n",
            "V42\n",
            "V43\n",
            "V44\n",
            "V45\n",
            "V46\n",
            "V47\n",
            "V48\n",
            "V49\n",
            "V50\n",
            "V51\n",
            "V52\n",
            "V53\n",
            "V54\n",
            "V55\n",
            "V56\n",
            "V57\n",
            "V58\n",
            "V59\n",
            "V60\n",
            "V61\n",
            "V62\n",
            "V63\n",
            "V64\n",
            "V65\n",
            "V66\n",
            "V67\n",
            "V68\n",
            "V69\n",
            "V70\n",
            "V71\n",
            "V72\n",
            "V73\n",
            "V74\n",
            "V75\n",
            "V76\n",
            "V77\n",
            "V78\n",
            "V79\n",
            "V80\n",
            "V81\n",
            "V82\n",
            "V83\n",
            "V84\n",
            "V85\n",
            "V86\n",
            "V87\n",
            "V88\n",
            "V89\n",
            "V90\n",
            "V91\n",
            "V92\n",
            "V93\n",
            "V94\n",
            "V95\n",
            "V96\n",
            "V97\n",
            "V98\n",
            "V99\n",
            "V100\n",
            "V101\n",
            "V102\n",
            "V103\n",
            "V104\n",
            "V105\n",
            "V106\n",
            "V107\n",
            "V108\n",
            "V109\n",
            "V110\n",
            "V111\n",
            "V112\n",
            "V113\n",
            "V114\n",
            "V115\n",
            "V116\n",
            "V117\n",
            "V118\n",
            "V119\n",
            "V120\n",
            "V121\n",
            "V122\n",
            "V123\n",
            "V124\n",
            "V125\n",
            "V126\n",
            "V127\n",
            "V128\n",
            "V129\n",
            "V130\n",
            "V131\n",
            "V132\n",
            "V133\n",
            "V134\n",
            "V135\n",
            "V136\n",
            "V137\n",
            "V138\n",
            "V139\n",
            "V140\n",
            "V141\n",
            "V142\n",
            "V143\n",
            "V144\n",
            "V145\n",
            "V146\n",
            "V147\n",
            "V148\n",
            "V149\n",
            "V150\n",
            "V151\n",
            "V152\n",
            "V153\n",
            "V154\n",
            "V155\n",
            "V156\n",
            "V157\n",
            "V158\n",
            "V159\n",
            "V160\n",
            "V161\n",
            "V162\n",
            "V163\n",
            "V164\n",
            "V165\n",
            "V166\n",
            "V167\n",
            "V168\n",
            "V169\n",
            "V170\n",
            "V171\n",
            "V172\n",
            "V173\n",
            "V174\n",
            "V175\n",
            "V176\n",
            "V177\n",
            "V178\n",
            "V179\n",
            "V180\n",
            "V181\n",
            "V182\n",
            "V183\n",
            "V184\n",
            "V185\n",
            "V186\n",
            "V187\n",
            "V188\n",
            "V189\n",
            "V190\n",
            "V191\n",
            "V192\n",
            "V193\n",
            "V194\n",
            "V195\n",
            "V196\n",
            "V197\n",
            "V198\n",
            "V199\n",
            "V200\n",
            "V201\n",
            "V202\n",
            "V203\n",
            "V204\n",
            "V205\n",
            "V206\n",
            "V207\n",
            "V208\n",
            "V209\n",
            "V210\n",
            "V211\n",
            "V212\n",
            "V213\n",
            "V214\n",
            "V215\n",
            "V216\n",
            "V217\n",
            "V218\n",
            "V219\n",
            "V220\n",
            "V221\n",
            "V222\n",
            "V223\n",
            "V224\n",
            "V225\n",
            "V226\n",
            "V227\n",
            "V228\n",
            "V229\n",
            "V230\n",
            "V231\n",
            "V232\n",
            "V233\n",
            "V234\n",
            "V235\n",
            "V236\n",
            "V237\n",
            "V238\n",
            "V239\n",
            "V240\n",
            "V241\n",
            "V242\n",
            "V243\n",
            "V244\n",
            "V245\n",
            "V246\n",
            "V247\n",
            "V248\n",
            "V249\n",
            "V250\n",
            "V251\n",
            "V252\n",
            "V253\n",
            "V254\n",
            "V255\n",
            "V256\n",
            "V257\n",
            "V258\n",
            "V259\n",
            "V260\n",
            "V261\n",
            "V262\n",
            "V263\n",
            "V264\n",
            "V265\n",
            "V266\n",
            "V267\n",
            "V268\n",
            "V269\n",
            "V270\n",
            "V271\n",
            "V272\n",
            "V273\n",
            "V274\n",
            "V275\n",
            "V276\n",
            "V277\n",
            "V278\n",
            "V279\n",
            "V280\n",
            "V281\n",
            "V282\n",
            "V283\n",
            "V284\n",
            "V285\n",
            "V286\n",
            "V287\n",
            "V288\n",
            "V289\n",
            "V290\n",
            "V291\n",
            "V292\n",
            "V293\n",
            "V294\n",
            "V295\n",
            "V296\n",
            "V297\n",
            "V298\n",
            "V299\n",
            "V300\n",
            "V301\n",
            "V302\n",
            "V303\n",
            "V304\n",
            "V305\n",
            "V306\n",
            "V307\n",
            "V308\n",
            "V309\n",
            "V310\n",
            "V311\n",
            "V312\n",
            "V313\n",
            "V314\n",
            "V315\n",
            "V316\n",
            "V317\n",
            "V318\n",
            "V319\n",
            "V320\n",
            "V321\n",
            "V322\n",
            "V323\n",
            "V324\n",
            "V325\n",
            "V326\n",
            "V327\n",
            "V328\n",
            "V329\n",
            "V330\n",
            "V331\n",
            "V332\n",
            "V333\n",
            "V334\n",
            "V335\n",
            "V336\n",
            "V337\n",
            "V338\n",
            "V339\n"
          ],
          "name": "stdout"
        }
      ]
    },
    {
      "cell_type": "code",
      "metadata": {
        "id": "YrKPLTjqHjVO",
        "colab_type": "code",
        "outputId": "707ea998-7001-4edf-828a-a0826e3fc7b2",
        "colab": {
          "base_uri": "https://localhost:8080/",
          "height": 347
        }
      },
      "source": [
        "#plotting id_12\n",
        "pd.value_counts(train_new['card6']).plot.bar()"
      ],
      "execution_count": 17,
      "outputs": [
        {
          "output_type": "execute_result",
          "data": {
            "text/plain": [
              "<matplotlib.axes._subplots.AxesSubplot at 0x7f529a208048>"
            ]
          },
          "metadata": {
            "tags": []
          },
          "execution_count": 17
        },
        {
          "output_type": "display_data",
          "data": {
            "image/png": "[encoded data removed]",
            "text/plain": [
              "<Figure size 432x288 with 1 Axes>"
            ]
          },
          "metadata": {
            "tags": []
          }
        }
      ]
    },
    {
      "cell_type": "markdown",
      "metadata": {
        "id": "_nnER_bGJxkw",
        "colab_type": "text"
      },
      "source": [
        "The card6 feauture might refer to the Card Type"
      ]
    },
    {
      "cell_type": "code",
      "metadata": {
        "id": "ZZIOeE9tIIAW",
        "colab_type": "code",
        "outputId": "30edc17d-a0f5-4cbb-d98e-9f80e5c3dfda",
        "colab": {
          "base_uri": "https://localhost:8080/",
          "height": 286
        }
      },
      "source": [
        "#Plotting the ProductCD\n",
        "pd.value_counts(train_new['ProductCD']).plot.bar()"
      ],
      "execution_count": 15,
      "outputs": [
        {
          "output_type": "execute_result",
          "data": {
            "text/plain": [
              "<matplotlib.axes._subplots.AxesSubplot at 0x7f5299e20860>"
            ]
          },
          "metadata": {
            "tags": []
          },
          "execution_count": 15
        },
        {
          "output_type": "display_data",
          "data": {
            "image/png": "[encoded data removed]",
            "text/plain": [
              "<Figure size 432x288 with 1 Axes>"
            ]
          },
          "metadata": {
            "tags": []
          }
        }
      ]
    },
    {
      "cell_type": "code",
      "metadata": {
        "id": "B9FO2X9fICRj",
        "colab_type": "code",
        "outputId": "c58e4de5-464f-4837-8d7e-a8b408fd32e7",
        "colab": {
          "base_uri": "https://localhost:8080/",
          "height": 118
        }
      },
      "source": [
        "train_new.columns"
      ],
      "execution_count": 0,
      "outputs": [
        {
          "output_type": "execute_result",
          "data": {
            "text/plain": [
              "Index(['TransactionID', 'isFraud', 'TransactionDT', 'TransactionAmt',\n",
              "       'ProductCD', 'card1', 'card2', 'card3', 'card4', 'card5',\n",
              "       ...\n",
              "       'id_31', 'id_32', 'id_33', 'id_34', 'id_35', 'id_36', 'id_37', 'id_38',\n",
              "       'DeviceType', 'DeviceInfo'],\n",
              "      dtype='object', length=404)"
            ]
          },
          "metadata": {
            "tags": []
          },
          "execution_count": 27
        }
      ]
    },
    {
      "cell_type": "code",
      "metadata": {
        "id": "jGO6LDX_EVGG",
        "colab_type": "code",
        "outputId": "6151b724-71b7-4bb5-f1fa-08345fa8e4a8",
        "colab": {
          "base_uri": "https://localhost:8080/",
          "height": 67
        }
      },
      "source": [
        "train_new['isFraud'].value_counts()"
      ],
      "execution_count": 18,
      "outputs": [
        {
          "output_type": "execute_result",
          "data": {
            "text/plain": [
              "0    569877\n",
              "1     20663\n",
              "Name: isFraud, dtype: int64"
            ]
          },
          "metadata": {
            "tags": []
          },
          "execution_count": 18
        }
      ]
    },
    {
      "cell_type": "markdown",
      "metadata": {
        "id": "InujZn-dHGyL",
        "colab_type": "text"
      },
      "source": [
        "\n",
        "**From the above analysis, we see that the data is highly imbalanced.If we train the model with this data then there is a chance that model might be biased towards not Fraud**"
      ]
    },
    {
      "cell_type": "code",
      "metadata": {
        "id": "9DMqIRHmVhhA",
        "colab_type": "code",
        "colab": {}
      },
      "source": [
        "train_new.fillna(-999, inplace=True)"
      ],
      "execution_count": 0,
      "outputs": []
    },
    {
      "cell_type": "code",
      "metadata": {
        "id": "ggF8lDRBSrPK",
        "colab_type": "code",
        "colab": {}
      },
      "source": [
        "#Need to encode all the column data into number\n",
        "from sklearn.preprocessing import LabelEncoder\n",
        "for each_column in train_new.drop('isFraud', axis=1):\n",
        "    if train_new[each_column].dtype == 'object':\n",
        "        lbl = LabelEncoder()\n",
        "        lbl.fit(list(train_new[each_column].values))\n",
        "        train_new[each_column] = lbl.transform(list(train_new[each_column].values))"
      ],
      "execution_count": 0,
      "outputs": []
    },
    {
      "cell_type": "code",
      "metadata": {
        "id": "3fKP7maAKatr",
        "colab_type": "code",
        "outputId": "c4977c0c-922a-447f-f34d-eee5d0e6e200",
        "colab": {
          "base_uri": "https://localhost:8080/",
          "height": 34
        }
      },
      "source": [
        "#To Test how the encoder works\n",
        "lbl = LabelEncoder()\n",
        "lbl.fit(list(train_new['card6'].values))\n",
        "lbl.transform(list(train_new['card6'].values))"
      ],
      "execution_count": 0,
      "outputs": [
        {
          "output_type": "execute_result",
          "data": {
            "text/plain": [
              "array([1, 1, 2, ..., 2, 2, 1])"
            ]
          },
          "metadata": {
            "tags": []
          },
          "execution_count": 54
        }
      ]
    },
    {
      "cell_type": "code",
      "metadata": {
        "id": "VGYhuR4KMbHQ",
        "colab_type": "code",
        "colab": {}
      },
      "source": [
        "\n",
        "from sklearn.model_selection import train_test_split\n",
        "x_train, x_test, y_train, y_test = train_test_split(train_new.drop('isFraud',axis=1),\n",
        "                                                    train_new['isFraud'],\n",
        "                                                    test_size=.2)"
      ],
      "execution_count": 0,
      "outputs": []
    },
    {
      "cell_type": "code",
      "metadata": {
        "id": "L9Z7H4rJPy92",
        "colab_type": "code",
        "outputId": "9c2d6ef6-45c3-40d6-fab0-1d5e490e5f23",
        "colab": {
          "base_uri": "https://localhost:8080/",
          "height": 154
        }
      },
      "source": [
        "from sklearn.linear_model import LogisticRegression\n",
        "model = LogisticRegression()\n",
        "model.fit(x_train.drop(columns='TransactionID'), y_train)"
      ],
      "execution_count": 13,
      "outputs": [
        {
          "output_type": "stream",
          "text": [
            "/usr/local/lib/python3.6/dist-packages/sklearn/linear_model/logistic.py:432: FutureWarning: Default solver will be changed to 'lbfgs' in 0.22. Specify a solver to silence this warning.\n",
            "  FutureWarning)\n"
          ],
          "name": "stderr"
        },
        {
          "output_type": "execute_result",
          "data": {
            "text/plain": [
              "LogisticRegression(C=1.0, class_weight=None, dual=False, fit_intercept=True,\n",
              "                   intercept_scaling=1, l1_ratio=None, max_iter=100,\n",
              "                   multi_class='warn', n_jobs=None, penalty='l2',\n",
              "                   random_state=None, solver='warn', tol=0.0001, verbose=0,\n",
              "                   warm_start=False)"
            ]
          },
          "metadata": {
            "tags": []
          },
          "execution_count": 13
        }
      ]
    },
    {
      "cell_type": "code",
      "metadata": {
        "id": "bq54I9bZP_Xj",
        "colab_type": "code",
        "colab": {}
      },
      "source": [
        "y_predict = model.predict(x_test.drop(columns='TransactionID'))"
      ],
      "execution_count": 0,
      "outputs": []
    },
    {
      "cell_type": "code",
      "metadata": {
        "id": "E8PGgR8nhRBA",
        "colab_type": "code",
        "colab": {
          "base_uri": "https://localhost:8080/",
          "height": 34
        },
        "outputId": "caa5bd86-32da-45d4-c0af-af9b66e8d83c"
      },
      "source": [
        "from sklearn.metrics import accuracy_score\n",
        "accuracy_score(y_test, y_predict)"
      ],
      "execution_count": 20,
      "outputs": [
        {
          "output_type": "execute_result",
          "data": {
            "text/plain": [
              "0.9648288007586276"
            ]
          },
          "metadata": {
            "tags": []
          },
          "execution_count": 20
        }
      ]
    },
    {
      "cell_type": "markdown",
      "metadata": {
        "id": "A0aVtaAUiWy0",
        "colab_type": "text"
      },
      "source": [
        "**The Accuracy of the model is 96.5%**"
      ]
    },
    {
      "cell_type": "code",
      "metadata": {
        "id": "hQ0Haqtxhy4T",
        "colab_type": "code",
        "colab": {
          "base_uri": "https://localhost:8080/",
          "height": 34
        },
        "outputId": "23df7eac-eb4e-440a-f442-635f9aaa2655"
      },
      "source": [
        "from sklearn.metrics import recall_score\n",
        "recall_score(y_test, y_predict, average='macro')"
      ],
      "execution_count": 22,
      "outputs": [
        {
          "output_type": "execute_result",
          "data": {
            "text/plain": [
              "0.50352913831572"
            ]
          },
          "metadata": {
            "tags": []
          },
          "execution_count": 22
        }
      ]
    },
    {
      "cell_type": "markdown",
      "metadata": {
        "id": "MmMXTRJmieHN",
        "colab_type": "text"
      },
      "source": [
        "The ratio of of True_Positives to ratio of True Positives to False NEgative is 0.50"
      ]
    }
  ]
}